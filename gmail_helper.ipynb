{
 "cells": [
  {
   "cell_type": "code",
   "execution_count": 1,
   "metadata": {},
   "outputs": [],
   "source": [
    "from openai import OpenAI\n",
    "import os\n",
    "from dotenv import load_dotenv, find_dotenv\n",
    "import os.path\n",
    "import json\n",
    "\n",
    "from google.auth.transport.requests import Request\n",
    "from google.oauth2.credentials import Credentials\n",
    "from google_auth_oauthlib.flow import InstalledAppFlow\n",
    "from googleapiclient.discovery import build\n",
    "from googleapiclient.errors import HttpError\n",
    "\n",
    "# If modifying these scopes, delete the file token.json.\n",
    "SCOPES = [\"https://www.googleapis.com/auth/gmail.modify\"]\n",
    "\n",
    "load_dotenv(find_dotenv())\n",
    "OPENAI_API_KEY = os.environ.get(\"OPENAI_API_KEY\")\n",
    "client = OpenAI(api_key=OPENAI_API_KEY)"
   ]
  },
  {
   "cell_type": "code",
   "execution_count": 5,
   "metadata": {},
   "outputs": [
    {
     "name": "stdout",
     "output_type": "stream",
     "text": [
      "Please visit this URL to authorize this application: https://accounts.google.com/o/oauth2/auth?response_type=code&client_id=915927531429-jb5jkim9325sqr9bun1hvo1evtc961rq.apps.googleusercontent.com&redirect_uri=http%3A%2F%2Flocalhost%3A4000%2F&scope=https%3A%2F%2Fwww.googleapis.com%2Fauth%2Fgmail.modify&state=v10Q4eBCzpVAk8sODcw6hSQIFlBlAJ&access_type=offline\n",
      "Message:\n",
      "{'id': '18dd72f55c607283', 'threadId': '18dd72e76463d781'}\n",
      "{'id': '18dd239871ed6fa1', 'threadId': '18dd239871ed6fa1'}\n",
      "{'id': '18dd235287084801', 'threadId': '18dd235287084801'}\n",
      "{'id': '18dd2323d21ef2e0', 'threadId': '18dd2323d21ef2e0'}\n",
      "{'id': '18dceb9bf5ba088a', 'threadId': '18dceb9bf5ba088a'}\n",
      "{'id': '18dceb8d9d3cdc2a', 'threadId': '18dceb8d9d3cdc2a'}\n",
      "{'id': '18dceb8d9195dbab', 'threadId': '18dceb8d9195dbab'}\n",
      "{'id': '18d905ba517a8d6d', 'threadId': '18d905ba517a8d6d'}\n",
      "{'id': '18d4706edcf6ec88', 'threadId': '18d4706edcf6ec88'}\n",
      "{'id': '18d016871b43ccaa', 'threadId': '18d016871b43ccaa'}\n",
      "[{'id': '18dd72f55c607283', 'threadId': '18dd72e76463d781'}, {'id': '18dd239871ed6fa1', 'threadId': '18dd239871ed6fa1'}, {'id': '18dd235287084801', 'threadId': '18dd235287084801'}, {'id': '18dd2323d21ef2e0', 'threadId': '18dd2323d21ef2e0'}, {'id': '18dceb9bf5ba088a', 'threadId': '18dceb9bf5ba088a'}, {'id': '18dceb8d9d3cdc2a', 'threadId': '18dceb8d9d3cdc2a'}, {'id': '18dceb8d9195dbab', 'threadId': '18dceb8d9195dbab'}, {'id': '18d905ba517a8d6d', 'threadId': '18d905ba517a8d6d'}, {'id': '18d4706edcf6ec88', 'threadId': '18d4706edcf6ec88'}, {'id': '18d016871b43ccaa', 'threadId': '18d016871b43ccaa'}]\n"
     ]
    }
   ],
   "source": [
    "creds = None\n",
    "  # The file token.json stores the user's access and refresh tokens, and is\n",
    "  # created automatically when the authorization flow completes for the first\n",
    "  # time.\n",
    "\"\"\" if os.path.exists(\"token.json\"):\n",
    "    creds = Credentials.from_authorized_user_file(\"token.json\", SCOPES) \"\"\"\n",
    "# If there are no (valid) credentials available, let the user log in.\n",
    "if not creds or not creds.valid:\n",
    "    if creds and creds.expired and creds.refresh_token:\n",
    "        creds.refresh(Request())\n",
    "    else:\n",
    "        flow = InstalledAppFlow.from_client_secrets_file(\n",
    "            \"credentials.json\", SCOPES\n",
    "        )\n",
    "        creds = flow.run_local_server(port=4000)\n",
    "    # Save the credentials for the next run\n",
    "    with open(\"token.json\", \"w\") as token:\n",
    "        token.write(creds.to_json())\n",
    "\n",
    "service = None\n",
    "try:\n",
    "    # Call the Gmail API\n",
    "    service = build(\"gmail\", \"v1\", credentials=creds)\n",
    "\n",
    "except HttpError as error:\n",
    "# TODO(developer) - Handle errors from gmail API.\n",
    "    print(f\"An error occurred: {error}\")\n",
    "\n",
    "def getEmailList():\n",
    "    try:\n",
    "        results = service.users().messages().list(userId=\"me\").execute()\n",
    "        messages = results.get(\"messages\", [])\n",
    "\n",
    "        if not messages:\n",
    "            print(\"No messages found.\")\n",
    "            return\n",
    "        print(\"Message:\")\n",
    "        for message in messages:\n",
    "            print(message)\n",
    "\n",
    "    except HttpError as error:\n",
    "    # TODO(developer) - Handle errors from gmail API.\n",
    "        print(f\"An error occurred: {error}\")\n",
    "    return messages\n",
    "\n",
    "print(getEmailList())"
   ]
  },
  {
   "cell_type": "code",
   "execution_count": 6,
   "metadata": {},
   "outputs": [],
   "source": [
    "# Creates a new assistant\n",
    "assistant = client.beta.assistants.create(\n",
    "    name = \"Gmail Helper\",\n",
    "    instructions = \"Your go-to assistant for reading and editing emails. Gmail Helper is a personal assistant dedicated to reading and sending emails, primarily through Google Gmail API integration. Its core functionality includes checking the user’s email to read and summarize emails they receive. It is capable of sending emails to the user's contacts but will always seek confirmation from the user before doing so, ensuring that the user has control over what they send. Gmail Helper maintains a professional demeanor, focusing on providing clear, concise, and accurate scheduling information. It prioritizes user privacy and confidentiality.The assistant is also equipped to guide users through the Google Gmail API’s functionalities and troubleshoot common issues, using language tailored to the user’s level of technical expertise. Overall, Gmail Helper adopts a polite, efficient, and accommodating tone, aiming to make email management and event scheduling as smooth and user-friendly as possible.\",\n",
    "    tools = [{\n",
    "      \"type\": \"function\",\n",
    "      \"function\": {\n",
    "        \"name\": \"getEmailList\",\n",
    "        \"description\": \"Get a list of the user's mailbox contents\",\n",
    "      }\n",
    "    }],\n",
    "    model = \"gpt-4\"\n",
    ")"
   ]
  },
  {
   "cell_type": "code",
   "execution_count": null,
   "metadata": {},
   "outputs": [],
   "source": []
  },
  {
   "cell_type": "code",
   "execution_count": 28,
   "metadata": {},
   "outputs": [
    {
     "name": "stdout",
     "output_type": "stream",
     "text": [
      "Thread(id='thread_H51rILrueFrlL1E4CuX1qqYM', created_at=1708977155, metadata={}, object='thread')\n"
     ]
    }
   ],
   "source": [
    "thread = client.beta.threads.create()\n",
    "print(thread)"
   ]
  },
  {
   "cell_type": "code",
   "execution_count": 29,
   "metadata": {},
   "outputs": [],
   "source": [
    "message = client.beta.threads.messages.create(\n",
    "    thread_id = thread.id,\n",
    "    role = \"user\",\n",
    "    content = \"Show me my emails.\"\n",
    ")"
   ]
  },
  {
   "cell_type": "code",
   "execution_count": 30,
   "metadata": {},
   "outputs": [
    {
     "name": "stdout",
     "output_type": "stream",
     "text": [
      "ThreadMessage(id='msg_XphCAaYoc61AeqelrpZbsc7Z', assistant_id=None, content=[MessageContentText(text=Text(annotations=[], value='Show me my emails.'), type='text')], created_at=1708977156, file_ids=[], metadata={}, object='thread.message', role='user', run_id=None, thread_id='thread_H51rILrueFrlL1E4CuX1qqYM')\n"
     ]
    }
   ],
   "source": [
    "print(message)"
   ]
  },
  {
   "cell_type": "code",
   "execution_count": 31,
   "metadata": {},
   "outputs": [],
   "source": [
    "run = client.beta.threads.runs.create(\n",
    "    thread_id = thread.id,\n",
    "    assistant_id = assistant.id\n",
    ")"
   ]
  },
  {
   "cell_type": "code",
   "execution_count": 32,
   "metadata": {},
   "outputs": [],
   "source": [
    "run = client.beta.threads.runs.retrieve(\n",
    "    thread_id = thread.id,\n",
    "    run_id = run.id\n",
    ")"
   ]
  },
  {
   "cell_type": "code",
   "execution_count": 33,
   "metadata": {},
   "outputs": [
    {
     "name": "stdout",
     "output_type": "stream",
     "text": [
      "Current status: requires_action\n",
      "requires_action.. looking for a function\n",
      "submit tool outputs ... \n",
      "Message:\n",
      "{'id': '18dd72f55c607283', 'threadId': '18dd72e76463d781'}\n",
      "{'id': '18dd239871ed6fa1', 'threadId': '18dd239871ed6fa1'}\n",
      "{'id': '18dd235287084801', 'threadId': '18dd235287084801'}\n",
      "{'id': '18dd2323d21ef2e0', 'threadId': '18dd2323d21ef2e0'}\n",
      "{'id': '18dceb9bf5ba088a', 'threadId': '18dceb9bf5ba088a'}\n",
      "{'id': '18dceb8d9d3cdc2a', 'threadId': '18dceb8d9d3cdc2a'}\n",
      "{'id': '18dceb8d9195dbab', 'threadId': '18dceb8d9195dbab'}\n",
      "{'id': '18d905ba517a8d6d', 'threadId': '18d905ba517a8d6d'}\n",
      "{'id': '18d4706edcf6ec88', 'threadId': '18d4706edcf6ec88'}\n",
      "{'id': '18d016871b43ccaa', 'threadId': '18d016871b43ccaa'}\n",
      "Run after submit tool outputs: queued\n"
     ]
    }
   ],
   "source": [
    "status = run.status\n",
    "print('Current status: ' + status)\n",
    "if status == 'completed':\n",
    "    #clearInterval(polling_interval)\n",
    "    messages_list = assistant.beta.threads.messages.list(thread)\n",
    "    messages = [message.content for message in messages_list.body.data]\n",
    "    #res.json({\"messages\": messages})\n",
    "elif status == 'requires_action':\n",
    "    print('requires_action.. looking for a function')\n",
    "    if run.required_action.type == 'submit_tool_outputs':\n",
    "        print('submit tool outputs ... ')\n",
    "        tool_calls = run.required_action.submit_tool_outputs.tool_calls\n",
    "        \"\"\" parsed_args = json.loads(tool_calls[0].function.arguments)\n",
    "        print('Query to search for: ' + parsed_args['query']) \"\"\"\n",
    "        api_response = getEmailList()\n",
    "        run = client.beta.threads.runs.submit_tool_outputs(thread_id=thread.id, run_id=run.id, tool_outputs=[{\"tool_call_id\": tool_calls[0].id, \"output\": json.dumps(api_response)}])\n",
    "        print('Run after submit tool outputs: ' + run.status)"
   ]
  },
  {
   "cell_type": "code",
   "execution_count": 13,
   "metadata": {},
   "outputs": [],
   "source": [
    "messages = client.beta.threads.messages.list(\n",
    "    thread_id = thread.id\n",
    ")"
   ]
  },
  {
   "cell_type": "code",
   "execution_count": 36,
   "metadata": {},
   "outputs": [
    {
     "name": "stdout",
     "output_type": "stream",
     "text": [
      "queued\n",
      "ThreadMessage(id='msg_67cIhzyHD5zWKC8x76TVXFX3', assistant_id=None, content=[MessageContentText(text=Text(annotations=[], value='Show me my emails.'), type='text')], created_at=1708976936, file_ids=[], metadata={}, object='thread.message', role='user', run_id=None, thread_id='thread_ZHtSoxypgX9Za77dLt5aKQbg')\n",
      "queued\n",
      "ThreadMessage(id='msg_9k8vltjzylpuG3fbanQWXCmU', assistant_id='asst_ywXPejsKqWHsYi1Y6Rl7QsWe', content=[], created_at=1708976945, file_ids=[], metadata={}, object='thread.message', role='assistant', run_id='run_8hC4KJ7Icf0Na8B4JkAS0i8A', thread_id='thread_ZHtSoxypgX9Za77dLt5aKQbg')\n"
     ]
    }
   ],
   "source": [
    "for message in reversed(messages.data):\n",
    "    print(message.role + ': ' + message.content[0].text.value)"
   ]
  },
  {
   "cell_type": "markdown",
   "metadata": {},
   "source": []
  },
  {
   "cell_type": "code",
   "execution_count": null,
   "metadata": {},
   "outputs": [],
   "source": [
    "service.close()"
   ]
  }
 ],
 "metadata": {
  "kernelspec": {
   "display_name": "Python 3",
   "language": "python",
   "name": "python3"
  },
  "language_info": {
   "codemirror_mode": {
    "name": "ipython",
    "version": 3
   },
   "file_extension": ".py",
   "mimetype": "text/x-python",
   "name": "python",
   "nbconvert_exporter": "python",
   "pygments_lexer": "ipython3",
   "version": "3.10.6"
  }
 },
 "nbformat": 4,
 "nbformat_minor": 2
}
