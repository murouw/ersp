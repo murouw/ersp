{
 "cells": [
  {
   "cell_type": "code",
   "execution_count": 16,
   "metadata": {},
   "outputs": [],
   "source": [
    "from openai import OpenAI\n",
    "import os\n",
    "from dotenv import load_dotenv, find_dotenv\n",
    "import os.path\n",
    "\n",
    "import base64\n",
    "from email.message import EmailMessage\n",
    "\n",
    "from google.auth.transport.requests import Request\n",
    "from google.oauth2.credentials import Credentials\n",
    "from google_auth_oauthlib.flow import InstalledAppFlow\n",
    "from googleapiclient.discovery import build\n",
    "from googleapiclient.errors import HttpError\n",
    "\n",
    "# If modifying these scopes, delete the file token.json.\n",
    "SCOPES = [\"https://www.googleapis.com/auth/gmail.modify\"]\n",
    "\n",
    "load_dotenv(find_dotenv())\n",
    "OPENAI_API_KEY = os.environ.get(\"OPENAI_API_KEY\")\n",
    "client = OpenAI(api_key=OPENAI_API_KEY)"
   ]
  },
  {
   "cell_type": "code",
   "execution_count": 17,
   "metadata": {},
   "outputs": [],
   "source": [
    "creds = None\n",
    "  # The file token.json stores the user's access and refresh tokens, and is\n",
    "  # created automatically when the authorization flow completes for the first\n",
    "  # time.\n",
    "if os.path.exists(\"token.json\"):\n",
    "    creds = Credentials.from_authorized_user_file(\"token.json\", SCOPES)\n",
    "# If there are no (valid) credentials available, let the user log in.\n",
    "if not creds or not creds.valid:\n",
    "    if creds and creds.expired and creds.refresh_token:\n",
    "        creds.refresh(Request())\n",
    "    else:\n",
    "        flow = InstalledAppFlow.from_client_secrets_file(\n",
    "            \"credentials.json\", SCOPES\n",
    "        )\n",
    "        creds = flow.run_local_server(port=4000)\n",
    "    # Save the credentials for the next run\n",
    "    with open(\"token.json\", \"w\") as token:\n",
    "        token.write(creds.to_json())\n",
    "\n",
    "service = None\n",
    "try:\n",
    "    # Call the Gmail API\n",
    "    service = build(\"gmail\", \"v1\", credentials=creds)\n",
    "\n",
    "except HttpError as error:\n",
    "# TODO(developer) - Handle errors from gmail API.\n",
    "    print(f\"An error occurred: {error}\")\n",
    "\n",
    "def getEmailList():\n",
    "    try:\n",
    "        results = service.users().messages().list(userId=\"me\").execute()\n",
    "        messages = results.get(\"messages\", [])\n",
    "\n",
    "        if not messages:\n",
    "            print(\"No messages found.\")\n",
    "            return\n",
    "        print(\"Message:\")\n",
    "        for message in messages:\n",
    "            print(message)\n",
    "\n",
    "    except HttpError as error:\n",
    "    # TODO(developer) - Handle errors from gmail API.\n",
    "        print(f\"An error occurred: {error}\")\n",
    "\n",
    "def sendEmail(content, to, sender, subject):\n",
    "  \"\"\"Create and send an email message\n",
    "  Returns: Message object, including message id\n",
    "\n",
    "  Load pre-authorized user credentials from the environment.\n",
    "  \"\"\"\n",
    "\n",
    "  try:\n",
    "    message = EmailMessage()\n",
    "\n",
    "    message.set_content(content)\n",
    "\n",
    "    message[\"To\"] = to\n",
    "    message[\"From\"] = sender\n",
    "    message[\"Subject\"] = subject\n",
    "\n",
    "    # encoded message\n",
    "    encoded_message = base64.urlsafe_b64encode(message.as_bytes()).decode()\n",
    "\n",
    "    create_message = {\"raw\": encoded_message}\n",
    "    # pylint: disable=E1101\n",
    "    send_message = (\n",
    "        service.users()\n",
    "        .messages()\n",
    "        .send(userId=\"me\", body=create_message)\n",
    "        .execute()\n",
    "    )\n",
    "  except HttpError as error:\n",
    "    print(f\"An error occurred: {error}\")\n",
    "    send_message = None\n",
    "  return send_message"
   ]
  },
  {
   "cell_type": "code",
   "execution_count": 18,
   "metadata": {},
   "outputs": [],
   "source": [
    "# Creates a new assistant\n",
    "assistant = client.beta.assistants.create(\n",
    "    name = \"Gmail Helper\",\n",
    "    instructions = \"Your go-to assistant for reading and editing emails. Gmail Helper is a personal assistant dedicated to reading and sending emails, primarily through Google Gmail API integration. Its core functionality includes checking the user’s email to read and summarize emails they receive. It is capable of sending emails to the user's contacts but will always seek confirmation from the user before doing so, ensuring that the user has control over what they send. Gmail Helper maintains a professional demeanor, focusing on providing clear, concise, and accurate scheduling information. It prioritizes user privacy and confidentiality.The assistant is also equipped to guide users through the Google Gmail API’s functionalities and troubleshoot common issues, using language tailored to the user’s level of technical expertise. Overall, Gmail Helper adopts a polite, efficient, and accommodating tone, aiming to make email management and event scheduling as smooth and user-friendly as possible.\",\n",
    "    tools = [{\n",
    "      \"type\": \"function\",\n",
    "      \"function\": {\n",
    "        \"name\": \"getEmailList\",\n",
    "        \"description\": \"Get a list of the user's mailbox contents\",\n",
    "      }\n",
    "    },\n",
    "    {\n",
    "        \"type\": \"function\",\n",
    "        \"function\": {\n",
    "            \"name\": \"sendEmail\",\n",
    "          \"description\": \"Send an email to another user\",\n",
    "          \"parameters\": {\n",
    "         \"type\": \"object\",\n",
    "         \"properties\": {\n",
    "           \"content\": {\"type\": \"string\", \"description\": \"The content of the email to be sent\"},\n",
    "           \"to\": {\"type\": \"string\", \"description\": \"Email address of email recipient\"},\n",
    "          \"sender\": {\"type\": \"string\", \"description\": \"The sender of the email, namely the user\"},\n",
    "           \"subject\": {\"type\": \"string\", \"description\": \"The subject of the email being sent\"}\n",
    "         },\n",
    "         \"required\": [\"content\", \"to\", \"sender\", \"subject\"]\n",
    "        },\n",
    "        }\n",
    "    }\n",
    "    \n",
    "    \n",
    "    ],\n",
    "    model = \"gpt-4\"\n",
    ")\n",
    "\n"
   ]
  },
  {
   "cell_type": "code",
   "execution_count": 19,
   "metadata": {},
   "outputs": [
    {
     "name": "stdout",
     "output_type": "stream",
     "text": [
      "Thread(id='thread_V0LSWzax9AAPJZiGBHcKFXn4', created_at=1709278798, metadata={}, object='thread')\n"
     ]
    }
   ],
   "source": [
    "thread = client.beta.threads.create()\n",
    "print(thread)"
   ]
  },
  {
   "cell_type": "code",
   "execution_count": 20,
   "metadata": {},
   "outputs": [],
   "source": [
    "message = client.beta.threads.messages.create(\n",
    "    thread_id = thread.id,\n",
    "    role = \"user\",\n",
    "    content = \"What is my latest email?\"\n",
    ")"
   ]
  },
  {
   "cell_type": "code",
   "execution_count": 21,
   "metadata": {},
   "outputs": [
    {
     "name": "stdout",
     "output_type": "stream",
     "text": [
      "ThreadMessage(id='msg_TnNDxJVau1OUEyUAhCMmOas9', assistant_id=None, content=[MessageContentText(text=Text(annotations=[], value='What is my latest email?'), type='text')], created_at=1709278798, file_ids=[], metadata={}, object='thread.message', role='user', run_id=None, thread_id='thread_V0LSWzax9AAPJZiGBHcKFXn4')\n"
     ]
    }
   ],
   "source": [
    "print(message)"
   ]
  },
  {
   "cell_type": "code",
   "execution_count": 22,
   "metadata": {},
   "outputs": [],
   "source": [
    "message = client.beta.threads.messages.create(\n",
    "    thread_id = thread.id,\n",
    "    role = \"user\",\n",
    "    content = \"Can you send an email from my account with the subject: Test and the content: Test Email to my own email?\"\n",
    ")"
   ]
  },
  {
   "cell_type": "code",
   "execution_count": 23,
   "metadata": {},
   "outputs": [],
   "source": [
    "print(message)"
   ]
  },
  {
   "cell_type": "code",
   "execution_count": 24,
   "metadata": {},
   "outputs": [],
   "source": [
    "run = client.beta.threads.runs.create(\n",
    "    thread_id = thread.id,\n",
    "    assistant_id = assistant.id\n",
    ")"
   ]
  },
  {
   "cell_type": "code",
   "execution_count": 25,
   "metadata": {},
   "outputs": [],
   "source": [
    "run = client.beta.threads.runs.retrieve(\n",
    "    thread_id = thread.id,\n",
    "    run_id = run.id\n",
    ")"
   ]
  },
  {
   "cell_type": "code",
   "execution_count": 26,
   "metadata": {},
   "outputs": [],
   "source": [
    "messages = client.beta.threads.messages.list(\n",
    "    thread_id = thread.id\n",
    ")"
   ]
  },
  {
   "cell_type": "code",
   "execution_count": 27,
   "metadata": {},
   "outputs": [
    {
     "name": "stdout",
     "output_type": "stream",
     "text": [
      "user: What is my latest email?\n"
     ]
    }
   ],
   "source": [
    "for message in reversed(messages.data):\n",
    "    print(message.role + ': ' + message.content[0].text.value)"
   ]
  },
  {
   "cell_type": "code",
   "execution_count": 28,
   "metadata": {},
   "outputs": [],
   "source": [
    "service.close()"
   ]
  }
 ],
 "metadata": {
  "kernelspec": {
   "display_name": "Python 3",
   "language": "python",
   "name": "python3"
  },
  "language_info": {
   "codemirror_mode": {
    "name": "ipython",
    "version": 3
   },
   "file_extension": ".py",
   "mimetype": "text/x-python",
   "name": "python",
   "nbconvert_exporter": "python",
   "pygments_lexer": "ipython3",
   "version": "3.11.8"
  }
 },
 "nbformat": 4,
 "nbformat_minor": 2
}
