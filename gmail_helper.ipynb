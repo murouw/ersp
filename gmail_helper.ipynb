{
 "cells": [
  {
   "cell_type": "code",
   "execution_count": 1,
   "metadata": {},
   "outputs": [],
   "source": [
    "from openai import OpenAI\n",
    "import os\n",
    "from dotenv import load_dotenv, find_dotenv\n",
    "import os.path\n",
    "import json\n",
    "\n",
    "import time\n",
    "import logging\n",
    "from datetime import datetime\n",
    "\n",
    "from google.auth.transport.requests import Request\n",
    "from google.oauth2.credentials import Credentials\n",
    "from google_auth_oauthlib.flow import InstalledAppFlow\n",
    "from googleapiclient.discovery import build\n",
    "from googleapiclient.errors import HttpError\n",
    "\n",
    "# If modifying these scopes, delete the file token.json.\n",
    "SCOPES = [\"https://www.googleapis.com/auth/gmail.modify\"]\n",
    "\n",
    "load_dotenv(find_dotenv())\n",
    "OPENAI_API_KEY = os.environ.get(\"OPENAI_API_KEY\")\n",
    "client = OpenAI(api_key=OPENAI_API_KEY)"
   ]
  },
  {
   "cell_type": "code",
   "execution_count": 2,
   "metadata": {},
   "outputs": [
    {
     "name": "stdout",
     "output_type": "stream",
     "text": [
      "Please visit this URL to authorize this application: https://accounts.google.com/o/oauth2/auth?response_type=code&client_id=915927531429-jb5jkim9325sqr9bun1hvo1evtc961rq.apps.googleusercontent.com&redirect_uri=http%3A%2F%2Flocalhost%3A4000%2F&scope=https%3A%2F%2Fwww.googleapis.com%2Fauth%2Fgmail.modify&state=VIZaiKEUQ6MVtPUt2lo0sOkyhsTD6I&access_type=offline\n"
     ]
    }
   ],
   "source": [
    "creds = None\n",
    "  # The file token.json stores the user's access and refresh tokens, and is\n",
    "  # created automatically when the authorization flow completes for the first\n",
    "  # time.\n",
    "\"\"\" if os.path.exists(\"token.json\"):\n",
    "    creds = Credentials.from_authorized_user_file(\"token.json\", SCOPES) \"\"\"\n",
    "# If there are no (valid) credentials available, let the user log in.\n",
    "if not creds or not creds.valid:\n",
    "    if creds and creds.expired and creds.refresh_token:\n",
    "        creds.refresh(Request())\n",
    "    else:\n",
    "        flow = InstalledAppFlow.from_client_secrets_file(\n",
    "            \"credentials.json\", SCOPES\n",
    "        )\n",
    "        creds = flow.run_local_server(port=4000)\n",
    "    # Save the credentials for the next run\n",
    "    with open(\"token.json\", \"w\") as token:\n",
    "        token.write(creds.to_json())\n",
    "\n",
    "service = None\n",
    "try:\n",
    "    # Call the Gmail API\n",
    "    service = build(\"gmail\", \"v1\", credentials=creds)\n",
    "\n",
    "except HttpError as error:\n",
    "# TODO(developer) - Handle errors from gmail API.\n",
    "    print(f\"An error occurred: {error}\")"
   ]
  },
  {
   "cell_type": "code",
   "execution_count": 3,
   "metadata": {},
   "outputs": [],
   "source": [
    "#Gmail API Calls\n",
    "def get_email(id):\n",
    "    try:\n",
    "        result = service.users().messages().get(userId='me', id=id).execute()\n",
    "\n",
    "        if not result:\n",
    "            print(\"Message not found.\")\n",
    "            return\n",
    "        print(\"Message:\" + result)\n",
    "\n",
    "    except HttpError as error:\n",
    "    # TODO(developer) - Handle errors from gmail API.\n",
    "        print(f\"An error occurred: {error}\")\n",
    "    return result\n",
    "\n",
    "def get_email_list():\n",
    "    try:\n",
    "        results = service.users().messages().list(userId=\"me\").execute()\n",
    "        messages = results.get(\"messages\", [])\n",
    "\n",
    "        if not messages:\n",
    "            print(\"No messages found.\")\n",
    "            return\n",
    "        print(\"Message:\")\n",
    "        for message in messages:\n",
    "            print(message)\n",
    "\n",
    "    except HttpError as error:\n",
    "    # TODO(developer) - Handle errors from gmail API.\n",
    "        print(f\"An error occurred: {error}\")\n",
    "    return messages"
   ]
  },
  {
   "cell_type": "code",
   "execution_count": 4,
   "metadata": {},
   "outputs": [],
   "source": [
    "# Creates a new assistant\n",
    "assistant = client.beta.assistants.create(\n",
    "    name = \"Gmail Helper\",\n",
    "    instructions = \"Your go-to assistant for reading and editing emails. Gmail Helper is a personal assistant dedicated to reading and sending emails, primarily through Google Gmail API integration. Its core functionality includes checking the user’s email to read and summarize emails they receive. It is capable of sending emails to the user's contacts but will always seek confirmation from the user before doing so, ensuring that the user has control over what they send. Gmail Helper maintains a professional demeanor, focusing on providing clear, concise, and accurate scheduling information. It prioritizes user privacy and confidentiality.The assistant is also equipped to guide users through the Google Gmail API’s functionalities and troubleshoot common issues, using language tailored to the user’s level of technical expertise. Overall, Gmail Helper adopts a polite, efficient, and accommodating tone, aiming to make email management and event scheduling as smooth and user-friendly as possible.\",\n",
    "    tools = [{\n",
    "      \"type\": \"function\",\n",
    "      \"function\": {\n",
    "        \"name\": \"get_email_list\",\n",
    "        \"description\": \"Get a list of the user's mailbox contents\",\n",
    "      }\n",
    "    }, {\n",
    "      \"type\": \"function\",\n",
    "      \"function\": {\n",
    "        \"name\": \"get_email\",\n",
    "        \"description\": \"Get the contents of an email\",\n",
    "        \"parameters\": {\n",
    "          \"type\": \"object\",\n",
    "          \"properties\": {\n",
    "              \"id\": {\n",
    "                  \"type\": \"string\",\n",
    "                  \"description\": \"Email ID\",\n",
    "              },\n",
    "          },\n",
    "          \"required\": [\"id\"],\n",
    "        }\n",
    "      } \n",
    "  }],\n",
    "    model = \"gpt-4\"\n",
    ")"
   ]
  },
  {
   "cell_type": "code",
   "execution_count": 5,
   "metadata": {},
   "outputs": [],
   "source": [
    "# Assistant class that can make Gmail API calls\n",
    "class GmailHelper:\n",
    "    thread_id = None\n",
    "    assistant_id = None\n",
    "\n",
    "    def __init__(self):\n",
    "        self.client = client\n",
    "        self.model = \"gpt-4\"\n",
    "        self.assistant = None\n",
    "        self.thread = None\n",
    "        self.run = None\n",
    "\n",
    "        if GmailHelper.assistant_id:\n",
    "            self.assistant = self.client.beta.assistants.retrieve(assistant_id=GmailHelper.assistant_id)\n",
    "\n",
    "        if GmailHelper.thread_id:\n",
    "            self.thread = self.client.beta.threads.retrieve(thread_id=GmailHelper.thread_id)\n",
    "\n",
    "    def create_assistant(self, name, instructions, tools):\n",
    "        if not self.assistant:\n",
    "            assistant_obj = self.client.beta.assistants.create(\n",
    "                name=name,\n",
    "                instructions=instructions,\n",
    "                tools=tools,\n",
    "                model=self.model\n",
    "            )\n",
    "            GmailHelper.assistant_id = assistant_obj.id\n",
    "            self.assistant = assistant_obj\n",
    "            print(f\"Assistant created with ID: {self.assistant.id}\")\n",
    "\n",
    "    def create_thread(self):\n",
    "        if not self.thread:\n",
    "            thread_obj = self.client.beta.threads.create()\n",
    "            GmailHelper.thread_id = thread_obj.id\n",
    "            self.thread = thread_obj\n",
    "            print(f\"Thread created with ID: {self.thread.id}\")\n",
    "\n",
    "    def add_message_to_thread(self, role, content):\n",
    "        if self.thread:\n",
    "            self.client.beta.threads.messages.create(\n",
    "                thread_id = self.thread.id,\n",
    "                role = role,\n",
    "                content = content\n",
    "            )\n",
    "    \n",
    "    def run_assistant(self, instructions):\n",
    "        if self.thread and self.assistant:\n",
    "            self.run = self.client.beta.threads.runs.create(\n",
    "                thread_id = self.thread_id,\n",
    "                assistant_id = self.assistant_id,\n",
    "                instructions = instructions\n",
    "            )\n",
    "\n",
    "    def print_thread(self):\n",
    "        if self.thread:\n",
    "            messages = self.client.beta.threads.messages.list(thread_id = self.thread_id)\n",
    "\n",
    "            for message in messages:\n",
    "                role = message.role\n",
    "                content = message.content[0].text.value\n",
    "                print(role + ': ' + content)\n",
    "\n",
    "    def call_required_functions(self, required_actions):\n",
    "        if not self.run:\n",
    "            return\n",
    "        tool_outputs = []\n",
    "\n",
    "        for action in required_actions[\"tool_calls\"]:\n",
    "            func_name = action[\"function\"][\"name\"]\n",
    "            arguments = json.loads(action[\"function\"][\"arguments\"])\n",
    "\n",
    "            if func_name == \"get_email_list\":\n",
    "                output = get_email_list()\n",
    "            elif func_name == \"get_email\":\n",
    "                output = get_email(id=arguments[\"id\"])\n",
    "\n",
    "            final_str = \"\"\n",
    "            for item in output:\n",
    "                final_str += \"\".join(item)\n",
    "\n",
    "            print(f\"Tool output: {output}\")\n",
    "            tool_outputs.append({\"tool_call_id\": action[\"id\"], \"output\": final_str})\n",
    "\n",
    "        self.client.beta.threads.runs.submit_tool_outputs(\n",
    "            thread_id = self.thread.id,\n",
    "            run_id = self.run.id,\n",
    "            tool_outputs = tool_outputs\n",
    "        )\n",
    "    \n",
    "    def wait_for_completion(self):\n",
    "        if self.thread and self.run:\n",
    "            while True:\n",
    "                time.sleep(5)\n",
    "                run_status = self.client.beta.threads.runs.retrieve(\n",
    "                    thread_id = self.thread.id,\n",
    "                    run_id = self.run.id\n",
    "                )\n",
    "\n",
    "                if run_status.status == \"completed\":\n",
    "                    break\n",
    "                elif run_status.status == \"requires_action\":\n",
    "                    self.call_required_functions(required_actions=run_status.required_action.submit_tool_outputs.model_dump())\n",
    "\n",
    "    def run_steps(self):\n",
    "        run_steps = self.client.beta.threads.runs.steps.list(\n",
    "            thread_id = self.thread.id,\n",
    "            run_id = self.run.id\n",
    "        )\n",
    "        print(f\"Run steps: {run_steps}\")\n",
    "        return run_steps.data\n"
   ]
  },
  {
   "cell_type": "code",
   "execution_count": 6,
   "metadata": {},
   "outputs": [],
   "source": [
    "manager = GmailHelper()"
   ]
  },
  {
   "cell_type": "code",
   "execution_count": 7,
   "metadata": {},
   "outputs": [
    {
     "name": "stdout",
     "output_type": "stream",
     "text": [
      "Assistant created with ID: asst_OMFTNVmqjwCsGsMHrEnbDybo\n",
      "Thread created with ID: thread_OYfqnz1kqZRiTvrrFUPLLHPS\n",
      "Message:\n",
      "{'id': '18df22a75161b7f1', 'threadId': '18df22a3997106a8'}\n",
      "{'id': '18df225f27e1f449', 'threadId': '18df225f27e1f449'}\n",
      "{'id': '18df22407a8640fc', 'threadId': '18df222e7e511d23'}\n",
      "{'id': '18de8b8714db0604', 'threadId': '18de8b7251cdf5a7'}\n",
      "{'id': '18de893c00e18a79', 'threadId': '18de88a6d840c251'}\n",
      "{'id': '18de885f11826280', 'threadId': '18de883f12d7b3a5'}\n",
      "{'id': '18de880ae1b5fef8', 'threadId': '18de87e58a4c9ee6'}\n",
      "{'id': '18de87dc25afef15', 'threadId': '18de87dc25afef15'}\n",
      "{'id': '18de87bebf3201ef', 'threadId': '18de87a30d46742c'}\n",
      "{'id': '18de879583e990e2', 'threadId': '18de877096d1555d'}\n",
      "{'id': '18de876f41ab2bd5', 'threadId': '18de8767d1a745dd'}\n",
      "{'id': '18de8730936d61a5', 'threadId': '18de87072eb6b747'}\n",
      "{'id': '18de86add7cd9bc2', 'threadId': '18de86925a76db73'}\n",
      "{'id': '18de86817af56850', 'threadId': '18de86817af56850'}\n",
      "{'id': '18de77c3870f442f', 'threadId': '18de777fb32ab29d'}\n",
      "{'id': '18de7764b782e3d2', 'threadId': '18de773d0a3b2cbe'}\n",
      "{'id': '18de7601545c947c', 'threadId': '18de75cead26717c'}\n",
      "{'id': '18de75b640691f99', 'threadId': '18de74487aa047e4'}\n",
      "{'id': '18de73e6f8d1924a', 'threadId': '18de73e6f8d1924a'}\n",
      "{'id': '18de73d5812192de', 'threadId': '18de73baf82ebd67'}\n",
      "{'id': '18dd72f55c607283', 'threadId': '18dd72e76463d781'}\n",
      "{'id': '18dd239871ed6fa1', 'threadId': '18dd239871ed6fa1'}\n",
      "{'id': '18dd235287084801', 'threadId': '18dd235287084801'}\n",
      "{'id': '18dd2323d21ef2e0', 'threadId': '18dd2323d21ef2e0'}\n",
      "{'id': '18dceb9bf5ba088a', 'threadId': '18dceb9bf5ba088a'}\n",
      "{'id': '18dceb8d9d3cdc2a', 'threadId': '18dceb8d9d3cdc2a'}\n",
      "{'id': '18dceb8d9195dbab', 'threadId': '18dceb8d9195dbab'}\n",
      "{'id': '18d905ba517a8d6d', 'threadId': '18d905ba517a8d6d'}\n",
      "{'id': '18d4706edcf6ec88', 'threadId': '18d4706edcf6ec88'}\n",
      "{'id': '18d016871b43ccaa', 'threadId': '18d016871b43ccaa'}\n",
      "Tool output: [{'id': '18df22a75161b7f1', 'threadId': '18df22a3997106a8'}, {'id': '18df225f27e1f449', 'threadId': '18df225f27e1f449'}, {'id': '18df22407a8640fc', 'threadId': '18df222e7e511d23'}, {'id': '18de8b8714db0604', 'threadId': '18de8b7251cdf5a7'}, {'id': '18de893c00e18a79', 'threadId': '18de88a6d840c251'}, {'id': '18de885f11826280', 'threadId': '18de883f12d7b3a5'}, {'id': '18de880ae1b5fef8', 'threadId': '18de87e58a4c9ee6'}, {'id': '18de87dc25afef15', 'threadId': '18de87dc25afef15'}, {'id': '18de87bebf3201ef', 'threadId': '18de87a30d46742c'}, {'id': '18de879583e990e2', 'threadId': '18de877096d1555d'}, {'id': '18de876f41ab2bd5', 'threadId': '18de8767d1a745dd'}, {'id': '18de8730936d61a5', 'threadId': '18de87072eb6b747'}, {'id': '18de86add7cd9bc2', 'threadId': '18de86925a76db73'}, {'id': '18de86817af56850', 'threadId': '18de86817af56850'}, {'id': '18de77c3870f442f', 'threadId': '18de777fb32ab29d'}, {'id': '18de7764b782e3d2', 'threadId': '18de773d0a3b2cbe'}, {'id': '18de7601545c947c', 'threadId': '18de75cead26717c'}, {'id': '18de75b640691f99', 'threadId': '18de74487aa047e4'}, {'id': '18de73e6f8d1924a', 'threadId': '18de73e6f8d1924a'}, {'id': '18de73d5812192de', 'threadId': '18de73baf82ebd67'}, {'id': '18dd72f55c607283', 'threadId': '18dd72e76463d781'}, {'id': '18dd239871ed6fa1', 'threadId': '18dd239871ed6fa1'}, {'id': '18dd235287084801', 'threadId': '18dd235287084801'}, {'id': '18dd2323d21ef2e0', 'threadId': '18dd2323d21ef2e0'}, {'id': '18dceb9bf5ba088a', 'threadId': '18dceb9bf5ba088a'}, {'id': '18dceb8d9d3cdc2a', 'threadId': '18dceb8d9d3cdc2a'}, {'id': '18dceb8d9195dbab', 'threadId': '18dceb8d9195dbab'}, {'id': '18d905ba517a8d6d', 'threadId': '18d905ba517a8d6d'}, {'id': '18d4706edcf6ec88', 'threadId': '18d4706edcf6ec88'}, {'id': '18d016871b43ccaa', 'threadId': '18d016871b43ccaa'}]\n",
      "assistant: I'm sorry, there seems to be a problem fetching your emails. Let's try again.\n",
      "user: What are my latest emails?\n"
     ]
    }
   ],
   "source": [
    "manager.create_assistant(\n",
    "    name = \"Gmail Helper\",\n",
    "    instructions = \"Your go-to assistant for reading and editing emails. Gmail Helper is a personal assistant dedicated to reading and sending emails, primarily through Google Gmail API integration. Its core functionality includes checking the user’s email to read and summarize emails they receive. It is capable of sending emails to the user's contacts but will always seek confirmation from the user before doing so, ensuring that the user has control over what they send. Gmail Helper maintains a professional demeanor, focusing on providing clear, concise, and accurate scheduling information. It prioritizes user privacy and confidentiality.The assistant is also equipped to guide users through the Google Gmail API’s functionalities and troubleshoot common issues, using language tailored to the user’s level of technical expertise. Overall, Gmail Helper adopts a polite, efficient, and accommodating tone, aiming to make email management and event scheduling as smooth and user-friendly as possible.\",\n",
    "    tools = [{\n",
    "      \"type\": \"function\",\n",
    "      \"function\": {\n",
    "        \"name\": \"get_email_list\",\n",
    "        \"description\": \"Get a list of the user's mailbox contents\",\n",
    "      }\n",
    "    }, {\n",
    "      \"type\": \"function\",\n",
    "      \"function\": {\n",
    "        \"name\": \"get_email\",\n",
    "        \"description\": \"Get the contents of an email\",\n",
    "        \"parameters\": {\n",
    "          \"type\": \"object\",\n",
    "          \"properties\": {\n",
    "              \"id\": {\n",
    "                  \"type\": \"string\",\n",
    "                  \"description\": \"The ID of the email to be retrieved\",\n",
    "              },\n",
    "          },\n",
    "          \"required\": [\"id\"],\n",
    "        }\n",
    "      } \n",
    "  }]\n",
    ")\n",
    "\n",
    "manager.create_thread()\n",
    "\n",
    "manager.add_message_to_thread(\n",
    "    role = \"user\",\n",
    "    content = \"What are my latest emails?\"\n",
    ")\n",
    "\n",
    "manager.run_assistant(instructions=\"Get the user's latest emails\")\n",
    "manager.wait_for_completion()\n",
    "\n",
    "manager.print_thread()"
   ]
  },
  {
   "cell_type": "code",
   "execution_count": 8,
   "metadata": {},
   "outputs": [
    {
     "name": "stdout",
     "output_type": "stream",
     "text": [
      "Thread(id='thread_NTgsiCvKzUXfhABucDUy2hjq', created_at=1709316563, metadata={}, object='thread')\n"
     ]
    }
   ],
   "source": [
    "thread = client.beta.threads.create()\n",
    "print(thread)"
   ]
  },
  {
   "cell_type": "code",
   "execution_count": 9,
   "metadata": {},
   "outputs": [],
   "source": [
    "message = client.beta.threads.messages.create(\n",
    "    thread_id = thread.id,\n",
    "    role = \"user\",\n",
    "    content = \"Show me my latest email.\"\n",
    ")"
   ]
  },
  {
   "cell_type": "code",
   "execution_count": 10,
   "metadata": {},
   "outputs": [
    {
     "name": "stdout",
     "output_type": "stream",
     "text": [
      "ThreadMessage(id='msg_8dTHykcE4gUTknMR7YMuKact', assistant_id=None, content=[MessageContentText(text=Text(annotations=[], value='Show me my latest email.'), type='text')], created_at=1709316565, file_ids=[], metadata={}, object='thread.message', role='user', run_id=None, thread_id='thread_NTgsiCvKzUXfhABucDUy2hjq')\n"
     ]
    }
   ],
   "source": [
    "print(message)"
   ]
  },
  {
   "cell_type": "code",
   "execution_count": 11,
   "metadata": {},
   "outputs": [],
   "source": [
    "run = client.beta.threads.runs.create(\n",
    "    thread_id = thread.id,\n",
    "    assistant_id = assistant.id\n",
    ")"
   ]
  },
  {
   "cell_type": "code",
   "execution_count": 12,
   "metadata": {},
   "outputs": [],
   "source": [
    "run = client.beta.threads.runs.retrieve(\n",
    "    thread_id = thread.id,\n",
    "    run_id = run.id\n",
    ")"
   ]
  },
  {
   "cell_type": "code",
   "execution_count": 13,
   "metadata": {},
   "outputs": [],
   "source": [
    "def wait_for_run_completion(client, thread_id, run_id, sleep_interval=5):\n",
    "    \"\"\"\n",
    "\n",
    "    Waits for a run to complete and prints the elapsed time.:param client: The OpenAI client object.\n",
    "    :param thread_id: The ID of the thread.\n",
    "    :param run_id: The ID of the run.\n",
    "    :param sleep_interval: Time in seconds to wait between checks.\n",
    "    \"\"\"\n",
    "    while True:\n",
    "        try:\n",
    "            run = client.beta.threads.runs.retrieve(thread_id=thread_id, run_id=run_id)\n",
    "            if run.completed_at:\n",
    "                elapsed_time = run.completed_at - run.created_at\n",
    "                formatted_elapsed_time = time.strftime(\n",
    "                    \"%H:%M:%S\", time.gmtime(elapsed_time)\n",
    "                )\n",
    "                print(f\"Run completed in {formatted_elapsed_time}\")\n",
    "                logging.info(f\"Run completed in {formatted_elapsed_time}\")\n",
    "                # Get messages here once Run is completed!\n",
    "                messages = client.beta.threads.messages.list(thread_id=thread_id)\n",
    "                last_message = messages.data[0]\n",
    "                response = last_message.content[0].text.value\n",
    "                print(f\"Assistant Response: {response}\")\n",
    "                return response\n",
    "        except Exception as e:\n",
    "            logging.error(f\"An error occurred while retrieving the run: {e}\")\n",
    "            break\n",
    "        logging.info(\"Waiting for run to complete...\")\n",
    "        time.sleep(sleep_interval)"
   ]
  },
  {
   "cell_type": "code",
   "execution_count": 14,
   "metadata": {},
   "outputs": [
    {
     "name": "stdout",
     "output_type": "stream",
     "text": [
      "Current status: in_progress\n"
     ]
    }
   ],
   "source": [
    "def checkingStatus(thread, run):\n",
    "    status = run.status\n",
    "    print('Current status: ' + status)\n",
    "    if status == 'completed':\n",
    "        messages_list = assistant.beta.threads.messages.list(thread)\n",
    "        messages = [message.content for message in messages_list.body.data]\n",
    "        return messages\n",
    "    elif status == 'requires_action':\n",
    "        print('requires_action.. looking for a function')\n",
    "        if run.required_action.type == 'submit_tool_outputs':\n",
    "            print('submit tool outputs ... ')\n",
    "            tool_calls = run.required_action.submit_tool_outputs.tool_calls\n",
    "            available_functions = {\n",
    "                \"get_email_list\": get_email_list,\n",
    "                \"get_email\": get_email\n",
    "            }\n",
    "            function_name = tool_calls[0].function.name\n",
    "            function_to_call = available_functions[function_name]\n",
    "            function_args = json.loads(tool_calls[0].function.arguments)\n",
    "            api_response = get_email_list()\n",
    "            if(function_name == 'get_email'):\n",
    "                api_response = function_to_call(id=function_args.get(\"id\"))\n",
    "            #print('Query to search for: ' + parsed_args['query'])\n",
    "            run = client.beta.threads.runs.submit_tool_outputs(thread_id=thread.id, run_id=run.id, tool_outputs=[{\"tool_call_id\": tool_calls[0].id, \"output\": json.dumps(api_response)},])\n",
    "            wait_for_run_completion(client, thread, run)\n",
    "checkingStatus(thread, run)"
   ]
  },
  {
   "cell_type": "code",
   "execution_count": 15,
   "metadata": {},
   "outputs": [],
   "source": [
    "messages = client.beta.threads.messages.list(\n",
    "    thread_id = thread.id\n",
    ")"
   ]
  },
  {
   "cell_type": "code",
   "execution_count": 16,
   "metadata": {},
   "outputs": [
    {
     "name": "stdout",
     "output_type": "stream",
     "text": [
      "user: Show me my latest email.\n"
     ]
    }
   ],
   "source": [
    "for message in reversed(messages.data):\n",
    "    print(message.role + ': ' + message.content[0].text.value)"
   ]
  },
  {
   "cell_type": "markdown",
   "metadata": {},
   "source": []
  },
  {
   "cell_type": "code",
   "execution_count": 17,
   "metadata": {},
   "outputs": [],
   "source": [
    "service.close()"
   ]
  }
 ],
 "metadata": {
  "kernelspec": {
   "display_name": "Python 3",
   "language": "python",
   "name": "python3"
  },
  "language_info": {
   "codemirror_mode": {
    "name": "ipython",
    "version": 3
   },
   "file_extension": ".py",
   "mimetype": "text/x-python",
   "name": "python",
   "nbconvert_exporter": "python",
   "pygments_lexer": "ipython3",
   "version": "3.10.6"
  }
 },
 "nbformat": 4,
 "nbformat_minor": 2
}
